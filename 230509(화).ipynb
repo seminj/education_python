{
 "cells": [
  {
   "cell_type": "markdown",
   "id": "5d4e4667",
   "metadata": {},
   "source": [
    "#### % 나머지 연산자"
   ]
  },
  {
   "cell_type": "code",
   "execution_count": 15,
   "id": "12a449fe",
   "metadata": {},
   "outputs": [
    {
     "name": "stdout",
     "output_type": "stream",
     "text": [
      "1시 0분 3초\n"
     ]
    }
   ],
   "source": [
    "# 초 -> 분, 시, 일\n",
    "sec = 3603\n",
    "\n",
    "# 몇분 몇초? \n",
    "시 = sec // (60 * 60)\n",
    "분 = (sec % (60 * 60)) // 60\n",
    "초 = sec % 60\n",
    "\n",
    "# 포맷팅 f 문자\n",
    "print(f'{시}시 {분}분 {초}초')"
   ]
  },
  {
   "cell_type": "markdown",
   "id": "545ef1a7",
   "metadata": {},
   "source": [
    "#### 현재 시각 알아내기 - 도구  datetime"
   ]
  },
  {
   "cell_type": "code",
   "execution_count": 30,
   "id": "edd22a62",
   "metadata": {},
   "outputs": [
    {
     "name": "stdout",
     "output_type": "stream",
     "text": [
      "27 days, 14:41:30.386463\n"
     ]
    }
   ],
   "source": [
    "import datetime\n",
    "now_time = datetime.datetime.now()\n",
    "현충일 = datetime.datetime(2023, 6, 6)\n",
    "print(현충일 - now_time)"
   ]
  },
  {
   "cell_type": "markdown",
   "id": "54428610",
   "metadata": {},
   "source": [
    "#### 자료형(논리): 참 또는 거짓을 나타내는 자료형"
   ]
  },
  {
   "cell_type": "code",
   "execution_count": 35,
   "id": "91a0e72d",
   "metadata": {},
   "outputs": [],
   "source": [
    "b = True"
   ]
  },
  {
   "cell_type": "code",
   "execution_count": 36,
   "id": "e6f05d92",
   "metadata": {},
   "outputs": [],
   "source": [
    "isFile = False"
   ]
  },
  {
   "cell_type": "markdown",
   "id": "2678e65d",
   "metadata": {},
   "source": [
    "#### 리스트(자료형) : 여러개의 자료를 하나로 묶어 사용할 수 있는 자료형"
   ]
  },
  {
   "cell_type": "code",
   "execution_count": 33,
   "id": "65158b37",
   "metadata": {},
   "outputs": [
    {
     "data": {
      "text/plain": [
       "(5, 5)"
      ]
     },
     "execution_count": 33,
     "metadata": {},
     "output_type": "execute_result"
    }
   ],
   "source": [
    "list2 = [1,2,3,4,5]\n",
    "list2[-1], list2[5-1]"
   ]
  },
  {
   "cell_type": "code",
   "execution_count": 37,
   "id": "908ddec6",
   "metadata": {},
   "outputs": [
    {
     "data": {
      "text/plain": [
       "5"
      ]
     },
     "execution_count": 37,
     "metadata": {},
     "output_type": "execute_result"
    }
   ],
   "source": [
    "len(list2)"
   ]
  },
  {
   "cell_type": "code",
   "execution_count": 41,
   "id": "f3f0beec",
   "metadata": {},
   "outputs": [],
   "source": [
    "# 서버로부터 데이터 가져오기\n",
    "import requests\n",
    "res = requests.get('http://ggoreb.com/quiz/소나기.txt')\n",
    "res.encoding =  None\n",
    "rain = res.text"
   ]
  },
  {
   "cell_type": "code",
   "execution_count": 42,
   "id": "704f1668",
   "metadata": {},
   "outputs": [
    {
     "data": {
      "text/plain": [
       "8047"
      ]
     },
     "execution_count": 42,
     "metadata": {},
     "output_type": "execute_result"
    }
   ],
   "source": [
    "#  rain  글자개수 알아보기\n",
    "len(rain)"
   ]
  },
  {
   "cell_type": "code",
   "execution_count": 43,
   "id": "66d819f5",
   "metadata": {},
   "outputs": [],
   "source": [
    "li = list() # 리스트로 변환\n",
    "s = str() # 문자형으로 변환"
   ]
  },
  {
   "cell_type": "code",
   "execution_count": 44,
   "id": "e6eb9470",
   "metadata": {},
   "outputs": [
    {
     "name": "stdout",
     "output_type": "stream",
     "text": [
      "['1', '2', '3']\n",
      "[1, 2, 3]\n",
      "[1, 2, 3]\n",
      "['a', 'b', 'c']\n"
     ]
    }
   ],
   "source": [
    "print( list('123') )\n",
    "print( list((1, 2, 3)) )\n",
    "print( list({1, 2, 3}) )\n",
    "print( list({'a': 1, 'b': 2, 'c': 3}) ) # [a, b, c]"
   ]
  },
  {
   "cell_type": "code",
   "execution_count": null,
   "id": "7e8ff218",
   "metadata": {},
   "outputs": [],
   "source": [
    "# 더하기 연산\n",
    "list1 = [1, 2, 3] + [4, 5]\n",
    "print(list1)\n",
    "list2 = [1, 2, 3]\n",
    "list2 = list2 + ['a', 'b']\n",
    "print(list2)"
   ]
  },
  {
   "cell_type": "code",
   "execution_count": null,
   "id": "e8928955",
   "metadata": {},
   "outputs": [],
   "source": [
    "# 곱하기 연산\n",
    "list1 = [1, 2, 3] * 3\n",
    "print(list1)\n",
    "list2 = [1, 2, 3]\n",
    "list2 = list2 * 3\n",
    "print(list2)"
   ]
  },
  {
   "cell_type": "code",
   "execution_count": 48,
   "id": "b8f6b486",
   "metadata": {},
   "outputs": [
    {
     "data": {
      "text/plain": [
       "('n', 'n', 'P', 'P')"
      ]
     },
     "execution_count": 48,
     "metadata": {},
     "output_type": "execute_result"
    }
   ],
   "source": [
    "# indexing\n",
    "items = ['H', 'e', 'l', 'l', 'o', ' ', 'P', 'y', 't', 'h', 'o', 'n']\n",
    "text = 'Hello Python'\n",
    "items[-1], text[-1], items[6], text[6]"
   ]
  },
  {
   "cell_type": "code",
   "execution_count": 55,
   "id": "0cd83050",
   "metadata": {
    "scrolled": true
   },
   "outputs": [
    {
     "name": "stdout",
     "output_type": "stream",
     "text": [
      "['H', 'e', 'l', 'l', 'o', ' ', 'P', 'y', 't', 'h', 'o', 'n']\n",
      "['H', 'e', 'l', 'l', 'o', ' ', 'P', 'y', 't', 'h', 'o', 'n']\n",
      "Hello Python\n",
      "['H', 'e', 'l', 'l', 'o', ' ', 'P', 'y', 't', 'h', 'o', 'n'] Hello Python\n"
     ]
    }
   ],
   "source": [
    "# text => list\n",
    "print(list(text))\n",
    "\n",
    "# list => text\n",
    "print(str(items))\n",
    "\n",
    "print(''.join(items))\n",
    "\n",
    "print(str(items), ''.join(items))"
   ]
  },
  {
   "cell_type": "markdown",
   "id": "2d7f3cd0",
   "metadata": {},
   "source": [
    "#### 중첩 리스트"
   ]
  },
  {
   "cell_type": "code",
   "execution_count": 63,
   "id": "b906479f",
   "metadata": {},
   "outputs": [],
   "source": [
    "# 중첩 리스트\n",
    "items = ['a', 'b', 'c', [1, 2, 3], '가','나','다']"
   ]
  },
  {
   "cell_type": "code",
   "execution_count": 62,
   "id": "a1793e66",
   "metadata": {},
   "outputs": [
    {
     "data": {
      "text/plain": [
       "[1, 2, 3]"
      ]
     },
     "execution_count": 62,
     "metadata": {},
     "output_type": "execute_result"
    }
   ],
   "source": [
    "items[3]"
   ]
  },
  {
   "cell_type": "code",
   "execution_count": 59,
   "id": "d5497615",
   "metadata": {
    "scrolled": true
   },
   "outputs": [
    {
     "name": "stdout",
     "output_type": "stream",
     "text": [
      "['c', [1, 2, 3], '가']\n",
      "[1, 2, 3]\n",
      "2\n",
      "[1, 2, 3]\n",
      "[1, 2]\n"
     ]
    }
   ],
   "source": [
    "print(items[2:5])\n",
    "print(items[3])\n",
    "print(items[3][1])\n",
    "print(items[3][:])\n",
    "print(items[3][:-1])"
   ]
  },
  {
   "cell_type": "code",
   "execution_count": 98,
   "id": "0d1daedd",
   "metadata": {},
   "outputs": [],
   "source": [
    "items = ['a', [1, 2, ['Life', 'is', 'too', 'short']], '가']"
   ]
  },
  {
   "cell_type": "code",
   "execution_count": 99,
   "id": "496ba0ab",
   "metadata": {},
   "outputs": [
    {
     "name": "stdout",
     "output_type": "stream",
     "text": [
      "Life\n"
     ]
    }
   ],
   "source": [
    "print(items[1][2][0])"
   ]
  },
  {
   "cell_type": "markdown",
   "id": "6e341d87",
   "metadata": {},
   "source": [
    "#### List 요소 추가"
   ]
  },
  {
   "cell_type": "code",
   "execution_count": 100,
   "id": "23d6610f",
   "metadata": {},
   "outputs": [
    {
     "name": "stdout",
     "output_type": "stream",
     "text": [
      "['a', [1, 2, ['Life', 'is', 'too', 'short']], '가', '!']\n"
     ]
    }
   ],
   "source": [
    "items = items + ['!']\n",
    "print(items)"
   ]
  },
  {
   "cell_type": "code",
   "execution_count": 101,
   "id": "bd0e63d5",
   "metadata": {},
   "outputs": [
    {
     "name": "stdout",
     "output_type": "stream",
     "text": [
      "['a', [1, 2, ['Life', 'is', 'too', 'short']], '가', '!', '가']\n"
     ]
    }
   ],
   "source": [
    "# append\n",
    "items.append('가')\n",
    "print(items)\n",
    "\n",
    "# list  에서는  find 가 없음"
   ]
  },
  {
   "cell_type": "markdown",
   "id": "b0c54978",
   "metadata": {},
   "source": [
    "#### 자료형 - Dictionary"
   ]
  },
  {
   "cell_type": "code",
   "execution_count": 120,
   "id": "abd8f11f",
   "metadata": {},
   "outputs": [
    {
     "name": "stdout",
     "output_type": "stream",
     "text": [
      "[1, 1, 3, 3, 4, 5]\n"
     ]
    }
   ],
   "source": [
    "items = [1, 1, '삭제', 3, 3, 4, 5]\n",
    "del items[2]\n",
    "print(items)"
   ]
  },
  {
   "cell_type": "code",
   "execution_count": 121,
   "id": "dbd1245d",
   "metadata": {},
   "outputs": [
    {
     "name": "stdout",
     "output_type": "stream",
     "text": [
      "[1, 3, 3, 4, 5]\n"
     ]
    }
   ],
   "source": [
    "#remove : 첫번째 값만 삭제됨\n",
    "items.remove(1)\n",
    "print(items)"
   ]
  },
  {
   "cell_type": "markdown",
   "id": "fbf52352",
   "metadata": {},
   "source": [
    "#### sort"
   ]
  },
  {
   "cell_type": "code",
   "execution_count": 170,
   "id": "d8fd5b46",
   "metadata": {},
   "outputs": [],
   "source": [
    "items = [3, 4, 2, 5, 1]"
   ]
  },
  {
   "cell_type": "code",
   "execution_count": 171,
   "id": "bdb7ed16",
   "metadata": {},
   "outputs": [
    {
     "name": "stdout",
     "output_type": "stream",
     "text": [
      "[1, 2, 3, 4, 5]\n"
     ]
    }
   ],
   "source": [
    "# sort() : 정렬 (오름차순)\n",
    "items.sort()\n",
    "print(items)"
   ]
  },
  {
   "cell_type": "code",
   "execution_count": 172,
   "id": "45f8922d",
   "metadata": {},
   "outputs": [
    {
     "name": "stdout",
     "output_type": "stream",
     "text": [
      "[5, 4, 3, 2, 1]\n"
     ]
    }
   ],
   "source": [
    "# sort(reverse=True) : 정렬 (내림차순)\n",
    "items.sort(reverse=True)\n",
    "print(items)"
   ]
  },
  {
   "cell_type": "code",
   "execution_count": 173,
   "id": "be4de2f8",
   "metadata": {},
   "outputs": [
    {
     "name": "stdout",
     "output_type": "stream",
     "text": [
      "None\n"
     ]
    }
   ],
   "source": [
    "# reverse() : 현재 상태의 반대로 정렬 (인덱스 기준)\n",
    "items = ['3', '4', '2', '5', '1']\n",
    "reverse_i = items.reverse()\n",
    "sort_i = items.sort()\n",
    "print(reverse_i)#, sort_i)"
   ]
  },
  {
   "cell_type": "code",
   "execution_count": 174,
   "id": "3b9dd5df",
   "metadata": {},
   "outputs": [
    {
     "name": "stdout",
     "output_type": "stream",
     "text": [
      "None\n"
     ]
    }
   ],
   "source": [
    "items = ['3', '4', '가', 'a', '2', '5', '1']\n",
    "i = items.sort()\n",
    "print(i)"
   ]
  },
  {
   "cell_type": "code",
   "execution_count": 151,
   "id": "92313067",
   "metadata": {},
   "outputs": [],
   "source": [
    "i = items.reverse()\n",
    "i"
   ]
  },
  {
   "cell_type": "code",
   "execution_count": 142,
   "id": "5f75278b",
   "metadata": {},
   "outputs": [
    {
     "name": "stdout",
     "output_type": "stream",
     "text": [
      "['e', 'k', 'a', 'h', 's']\n"
     ]
    }
   ],
   "source": [
    "items = ['s', 'h', 'a', 'k', 'e']\n",
    "items.reverse()\n",
    "print(items)"
   ]
  },
  {
   "cell_type": "code",
   "execution_count": 139,
   "id": "bfb44b28",
   "metadata": {},
   "outputs": [
    {
     "data": {
      "text/plain": [
       "49"
      ]
     },
     "execution_count": 139,
     "metadata": {},
     "output_type": "execute_result"
    }
   ],
   "source": [
    "# 아스키코드\n",
    "ord('1') #입력된 문자의 ASCII 코드 확인"
   ]
  },
  {
   "cell_type": "code",
   "execution_count": 175,
   "id": "46edf4ed",
   "metadata": {},
   "outputs": [
    {
     "name": "stdout",
     "output_type": "stream",
     "text": [
      "49 50 44032 55203\n"
     ]
    }
   ],
   "source": [
    "print(ord('1'), ord('2'), ord('가'), ord('힣'))"
   ]
  },
  {
   "cell_type": "markdown",
   "id": "638f6c54",
   "metadata": {},
   "source": [
    "#### 객체"
   ]
  },
  {
   "cell_type": "markdown",
   "id": "e9ff5643",
   "metadata": {},
   "source": [
    "- dir() : 객체의 내부를 확인하는 도구 \n",
    "- type() : 객체의 종류(정체)를 확인하는 도구"
   ]
  },
  {
   "cell_type": "code",
   "execution_count": 189,
   "id": "9a5132fd",
   "metadata": {
    "scrolled": true
   },
   "outputs": [
    {
     "data": {
      "text/plain": [
       "(str,\n",
       " ['__add__',\n",
       "  '__class__',\n",
       "  '__contains__',\n",
       "  '__delattr__',\n",
       "  '__dir__',\n",
       "  '__doc__',\n",
       "  '__eq__',\n",
       "  '__format__',\n",
       "  '__ge__',\n",
       "  '__getattribute__',\n",
       "  '__getitem__',\n",
       "  '__getnewargs__',\n",
       "  '__gt__',\n",
       "  '__hash__',\n",
       "  '__init__',\n",
       "  '__init_subclass__',\n",
       "  '__iter__',\n",
       "  '__le__',\n",
       "  '__len__',\n",
       "  '__lt__',\n",
       "  '__mod__',\n",
       "  '__mul__',\n",
       "  '__ne__',\n",
       "  '__new__',\n",
       "  '__reduce__',\n",
       "  '__reduce_ex__',\n",
       "  '__repr__',\n",
       "  '__rmod__',\n",
       "  '__rmul__',\n",
       "  '__setattr__',\n",
       "  '__sizeof__',\n",
       "  '__str__',\n",
       "  '__subclasshook__',\n",
       "  'capitalize',\n",
       "  'casefold',\n",
       "  'center',\n",
       "  'count',\n",
       "  'encode',\n",
       "  'endswith',\n",
       "  'expandtabs',\n",
       "  'find',\n",
       "  'format',\n",
       "  'format_map',\n",
       "  'index',\n",
       "  'isalnum',\n",
       "  'isalpha',\n",
       "  'isascii',\n",
       "  'isdecimal',\n",
       "  'isdigit',\n",
       "  'isidentifier',\n",
       "  'islower',\n",
       "  'isnumeric',\n",
       "  'isprintable',\n",
       "  'isspace',\n",
       "  'istitle',\n",
       "  'isupper',\n",
       "  'join',\n",
       "  'ljust',\n",
       "  'lower',\n",
       "  'lstrip',\n",
       "  'maketrans',\n",
       "  'partition',\n",
       "  'removeprefix',\n",
       "  'removesuffix',\n",
       "  'replace',\n",
       "  'rfind',\n",
       "  'rindex',\n",
       "  'rjust',\n",
       "  'rpartition',\n",
       "  'rsplit',\n",
       "  'rstrip',\n",
       "  'split',\n",
       "  'splitlines',\n",
       "  'startswith',\n",
       "  'strip',\n",
       "  'swapcase',\n",
       "  'title',\n",
       "  'translate',\n",
       "  'upper',\n",
       "  'zfill'])"
      ]
     },
     "execution_count": 189,
     "metadata": {},
     "output_type": "execute_result"
    }
   ],
   "source": [
    "s = ''\n",
    "type(s), dir(s)"
   ]
  },
  {
   "cell_type": "markdown",
   "id": "160a5622",
   "metadata": {},
   "source": [
    "#### 연습문제 : 중첩 리스트 person에서 인덱싱을 사용하여 아래와 같이 출력하기"
   ]
  },
  {
   "cell_type": "code",
   "execution_count": 206,
   "id": "6a7a4968",
   "metadata": {},
   "outputs": [],
   "source": [
    "# 중첩 리스트 person에서 인덱싱을 사용하여 아래와 같이 출력하기\n",
    "person = ['ggoreb', 20, ['서울', '관악구', '신림동'], ['대전', '서구', '둔산동']]"
   ]
  },
  {
   "cell_type": "code",
   "execution_count": 210,
   "id": "fd496ed3",
   "metadata": {},
   "outputs": [
    {
     "data": {
      "text/plain": [
       "'[ggoreb]신림동/둔산동'"
      ]
     },
     "execution_count": 210,
     "metadata": {},
     "output_type": "execute_result"
    }
   ],
   "source": [
    "a = person[0]\n",
    "b = person[2][2]\n",
    "c = person[3][2]\n",
    "d = (f'[{a}]{b}/{c}')\n",
    "d"
   ]
  },
  {
   "cell_type": "code",
   "execution_count": 217,
   "id": "408a8716",
   "metadata": {},
   "outputs": [
    {
     "data": {
      "text/plain": [
       "['e', 'k', 'a', 'h', 's']"
      ]
     },
     "execution_count": 217,
     "metadata": {},
     "output_type": "execute_result"
    }
   ],
   "source": [
    "items = ['s', 'h', 'a', 'k', 'e']\n",
    "items.reverse()\n",
    "items"
   ]
  },
  {
   "cell_type": "code",
   "execution_count": 240,
   "id": "15b9a302",
   "metadata": {},
   "outputs": [
    {
     "name": "stdout",
     "output_type": "stream",
     "text": [
      "['y', 't', 'p', 'o', 'n', 'h']\n"
     ]
    }
   ],
   "source": [
    "ch_list = ['p', 'y', 't', 'h', 'o', 'n']\n",
    "ch_list.sort(reverse=False)\n",
    "ch_list.sort(reverse=True)\n",
    "print(ch_list)"
   ]
  },
  {
   "cell_type": "markdown",
   "id": "0df9dfa5",
   "metadata": {},
   "source": [
    "#### json 파일 보기"
   ]
  },
  {
   "cell_type": "code",
   "execution_count": 223,
   "id": "31358570",
   "metadata": {},
   "outputs": [],
   "source": [
    "data = [\n",
    "[\n",
    "[\n",
    "[\n",
    "[\n",
    "\"a\",\n",
    "\"b\"\n",
    "],\n",
    "[\n",
    "\"b\",\n",
    "\"c\"\n",
    "]\n",
    "],\n",
    "[\n",
    "[\n",
    "\"c\",\n",
    "\"d\"\n",
    "],\n",
    "[\n",
    "\"d\",\n",
    "\"e\"\n",
    "]\n",
    "]\n",
    "],\n",
    "[\n",
    "[\n",
    "[\n",
    "\"e\",\n",
    "\"f\"\n",
    "],\n",
    "[\n",
    "\"f\",\n",
    "\"g\"\n",
    "]\n",
    "],\n",
    "[\n",
    "[\n",
    "\"g\",\n",
    "\"h\"\n",
    "],\n",
    "[\n",
    "\"h\",\n",
    "\"i\"\n",
    "]\n",
    "]\n",
    "]\n",
    "],\n",
    "[\n",
    "[\n",
    "[\n",
    "[\n",
    "\"i\",\n",
    "\"j\"\n",
    "],\n",
    "[\n",
    "\"j\",\n",
    "\"k\"\n",
    "]\n",
    "],\n",
    "[\n",
    "[\n",
    "\"k\",\n",
    "\"l\"\n",
    "],\n",
    "[\n",
    "\"l\",\n",
    "\"m\"\n",
    "]\n",
    "]\n",
    "],\n",
    "[\n",
    "[\n",
    "[\n",
    "\"m\",\n",
    "\"n\"\n",
    "],\n",
    "[\n",
    "\"n\",\n",
    "\"o\"\n",
    "]\n",
    "],\n",
    "[\n",
    "[\n",
    "\"o\",\n",
    "\"p\"\n",
    "],\n",
    "[\n",
    "\"p\",\n",
    "\"q\"\n",
    "]\n",
    "]\n",
    "]\n",
    "]\n",
    "]"
   ]
  },
  {
   "cell_type": "code",
   "execution_count": 224,
   "id": "a24e7e60",
   "metadata": {},
   "outputs": [
    {
     "data": {
      "text/plain": [
       "[[[[['a', 'b'], ['b', 'c']], [['c', 'd'], ['d', 'e']]],\n",
       "  [[['e', 'f'], ['f', 'g']], [['g', 'h'], ['h', 'i']]]],\n",
       " [[[['i', 'j'], ['j', 'k']], [['k', 'l'], ['l', 'm']]],\n",
       "  [[['m', 'n'], ['n', 'o']], [['o', 'p'], ['p', 'q']]]]]"
      ]
     },
     "execution_count": 224,
     "metadata": {},
     "output_type": "execute_result"
    }
   ],
   "source": [
    "data"
   ]
  },
  {
   "cell_type": "code",
   "execution_count": 226,
   "id": "78d912e3",
   "metadata": {},
   "outputs": [
    {
     "name": "stdout",
     "output_type": "stream",
     "text": [
      "i j\n"
     ]
    }
   ],
   "source": [
    "e1 = data[1]\n",
    "e2 = e1[0]\n",
    "e3 = e2[0]\n",
    "e4 = e3[0]\n",
    "i = e4[0]\n",
    "j = e4[1]\n",
    "print(i,j)"
   ]
  },
  {
   "cell_type": "markdown",
   "id": "cb1960b9",
   "metadata": {},
   "source": [
    "### dictionary"
   ]
  },
  {
   "cell_type": "code",
   "execution_count": 250,
   "id": "193a1fb8",
   "metadata": {},
   "outputs": [
    {
     "data": {
      "text/plain": [
       "\"dict_keys(['a', 'b', 'c', 'd', 'e'])\""
      ]
     },
     "execution_count": 250,
     "metadata": {},
     "output_type": "execute_result"
    }
   ],
   "source": [
    "# 키는 하나 {키:값}, 키는 덮어쓰기가됨, 순서가 없음\n",
    "dic = { 'a': 1, 'b': 2, 'c': 3, 'd': 4, 'e': 5 }\n",
    "list(dic.keys())"
   ]
  },
  {
   "cell_type": "code",
   "execution_count": 251,
   "id": "63b02248",
   "metadata": {},
   "outputs": [
    {
     "data": {
      "text/plain": [
       "\"dict_keys(['a', 'b', 'c', 'd', 'e'])\""
      ]
     },
     "execution_count": 251,
     "metadata": {},
     "output_type": "execute_result"
    }
   ],
   "source": [
    "str(dic.keys())"
   ]
  },
  {
   "cell_type": "code",
   "execution_count": 253,
   "id": "96ef3ed8",
   "metadata": {},
   "outputs": [
    {
     "data": {
      "text/plain": [
       "[1, 2, 3, 4, 5]"
      ]
     },
     "execution_count": 253,
     "metadata": {},
     "output_type": "execute_result"
    }
   ],
   "source": [
    "list(dic.values())"
   ]
  },
  {
   "cell_type": "code",
   "execution_count": 254,
   "id": "8f01e7a7",
   "metadata": {},
   "outputs": [
    {
     "data": {
      "text/plain": [
       "dict_items([('a', 1), ('b', 2), ('c', 3), ('d', 4), ('e', 5)])"
      ]
     },
     "execution_count": 254,
     "metadata": {},
     "output_type": "execute_result"
    }
   ],
   "source": [
    "dic.items()"
   ]
  },
  {
   "cell_type": "code",
   "execution_count": 257,
   "id": "b59e2f9c",
   "metadata": {},
   "outputs": [
    {
     "data": {
      "text/plain": [
       "['a', 'b', 'c', 'd', 'e']"
      ]
     },
     "execution_count": 257,
     "metadata": {},
     "output_type": "execute_result"
    }
   ],
   "source": [
    "list(dic.keys())"
   ]
  },
  {
   "cell_type": "code",
   "execution_count": 268,
   "id": "dc1ad5d8",
   "metadata": {},
   "outputs": [],
   "source": [
    "dic = {'a':1, 'b':2, 'c':3, 'd':4, 'e':5}"
   ]
  },
  {
   "cell_type": "code",
   "execution_count": 269,
   "id": "27c85ffe",
   "metadata": {},
   "outputs": [
    {
     "name": "stdout",
     "output_type": "stream",
     "text": [
      "a dict_keys(['a', 'b', 'c', 'd', 'e'])\n",
      "b dict_keys(['a', 'b', 'c', 'd', 'e'])\n",
      "c dict_keys(['a', 'b', 'c', 'd', 'e'])\n",
      "d dict_keys(['a', 'b', 'c', 'd', 'e'])\n",
      "e dict_keys(['a', 'b', 'c', 'd', 'e'])\n"
     ]
    }
   ],
   "source": [
    "for i in list(dic.keys()):\n",
    "    print(i, dic.keys())"
   ]
  },
  {
   "cell_type": "markdown",
   "id": "beba217a",
   "metadata": {},
   "source": [
    "#### dic key값 조회"
   ]
  },
  {
   "cell_type": "code",
   "execution_count": 271,
   "id": "e055611e",
   "metadata": {},
   "outputs": [
    {
     "data": {
      "text/plain": [
       "3"
      ]
     },
     "execution_count": 271,
     "metadata": {},
     "output_type": "execute_result"
    }
   ],
   "source": [
    "dic['c']"
   ]
  },
  {
   "cell_type": "code",
   "execution_count": 266,
   "id": "78598ace",
   "metadata": {},
   "outputs": [
    {
     "name": "stdout",
     "output_type": "stream",
     "text": [
      "None\n"
     ]
    }
   ],
   "source": [
    "print(dic.get('x'))"
   ]
  },
  {
   "cell_type": "markdown",
   "id": "3aa4b6a9",
   "metadata": {},
   "source": [
    "#### dic clear()"
   ]
  },
  {
   "cell_type": "code",
   "execution_count": 274,
   "id": "f2db967e",
   "metadata": {},
   "outputs": [
    {
     "name": "stdout",
     "output_type": "stream",
     "text": [
      "None\n"
     ]
    }
   ],
   "source": [
    "# clear() : 모든 데이터 삭제\n",
    "dic = { 'a': 1, 'b': 2, 'c': 3, 'd': 4, 'e': 5 }\n",
    "print( dic.clear() ) "
   ]
  },
  {
   "cell_type": "markdown",
   "id": "a55119c9",
   "metadata": {},
   "source": [
    "#### dic key 존재 확인"
   ]
  },
  {
   "cell_type": "code",
   "execution_count": null,
   "id": "6f5ecf89",
   "metadata": {},
   "outputs": [],
   "source": [
    "# in : 지정된 key가 존재하는지 확인\n",
    "dic = {\n",
    "'name': 'ggoreb',\n",
    "'age': 20,\n",
    "'hobby': ['당구', '배드민턴']\n",
    "}\n",
    "print( 'name' in dic )\n",
    "print( 'address' in dic )"
   ]
  },
  {
   "cell_type": "markdown",
   "id": "1051ad43",
   "metadata": {},
   "source": [
    "#### 연습문제 :  중첩 리스트 person에서 인덱싱을 사용하여 아래와 같이 출력하기"
   ]
  },
  {
   "cell_type": "code",
   "execution_count": 2,
   "id": "d4592736",
   "metadata": {},
   "outputs": [],
   "source": [
    "number = {\n",
    "'서울': '02', '대전': '042', '부산': '051',\n",
    "'광주': '062', '제주': '064'\n",
    "}"
   ]
  },
  {
   "cell_type": "code",
   "execution_count": 3,
   "id": "2913a25c",
   "metadata": {},
   "outputs": [
    {
     "data": {
      "text/plain": [
       "'051'"
      ]
     },
     "execution_count": 3,
     "metadata": {},
     "output_type": "execute_result"
    }
   ],
   "source": [
    "# 1. '부산'에 해당하는 value 출력\n",
    "number['부산'] #1"
   ]
  },
  {
   "cell_type": "code",
   "execution_count": 4,
   "id": "71204b78",
   "metadata": {},
   "outputs": [
    {
     "data": {
      "text/plain": [
       "'051'"
      ]
     },
     "execution_count": 4,
     "metadata": {},
     "output_type": "execute_result"
    }
   ],
   "source": [
    "busan = number.get('부산') #2\n",
    "busan"
   ]
  },
  {
   "cell_type": "code",
   "execution_count": 5,
   "id": "32e4bc8d",
   "metadata": {},
   "outputs": [
    {
     "name": "stdout",
     "output_type": "stream",
     "text": [
      "None\n",
      "False\n"
     ]
    }
   ],
   "source": [
    "# 2. '천안' key가 존재하는지 확인\n",
    "# 출력 방법 1\n",
    "print(number.get('천안')) \n",
    "\n",
    "# 출력 방법 2\n",
    "print('천안' in number) "
   ]
  },
  {
   "cell_type": "code",
   "execution_count": 285,
   "id": "b0c076f5",
   "metadata": {},
   "outputs": [
    {
     "name": "stdout",
     "output_type": "stream",
     "text": [
      "dict_keys(['서울', '대전', '부산', '광주', '제주'])\n"
     ]
    }
   ],
   "source": [
    "# 3. key 리스트 생성\n",
    "print(number.keys())"
   ]
  },
  {
   "cell_type": "code",
   "execution_count": 286,
   "id": "4def5fa0",
   "metadata": {},
   "outputs": [
    {
     "name": "stdout",
     "output_type": "stream",
     "text": [
      "dict_values(['02', '042', '051', '062', '064'])\n"
     ]
    }
   ],
   "source": [
    "# 4. value 리스트 생성\n",
    "print(number.values())"
   ]
  },
  {
   "cell_type": "markdown",
   "id": "51214b30",
   "metadata": {},
   "source": [
    "#### 연습문제 : 인디언식 이름 짓기\n",
    "1. 자신의 태어난 년도 맨 끝자리와 월, 일에 해당하는 수식어를 조합\n",
    "2. 태어난 년도는 색이나 성격, 월은 주어, 일은 술어를 표현"
   ]
  },
  {
   "cell_type": "code",
   "execution_count": 6,
   "id": "cfe94798",
   "metadata": {},
   "outputs": [],
   "source": [
    "# 결과 예)\n",
    "# birthday = '1971-08-07'\n",
    "# 푸른 달빛의 환생"
   ]
  },
  {
   "cell_type": "code",
   "execution_count": 311,
   "id": "9546b36e",
   "metadata": {},
   "outputs": [],
   "source": [
    "year = {\n",
    "    0: '시끄러운 또는 말 많은',\n",
    "    1: '푸른',\n",
    "    2: '어두운 -> 적색',\n",
    "    3: '조용한',\n",
    "    4: '웅크린',\n",
    "    5: '백색',\n",
    "    6: '지혜로운',\n",
    "    7: '용감한',\n",
    "    8: '날카로운',\n",
    "    9: '욕심많은'\n",
    "}\n",
    "\n",
    "month = {\n",
    "    1: '늑대', 2: '태양', 3: '양', 4: '매', \n",
    "    5: '황소', 6: '불꽃', 7: '나무', 8: '달빛', \n",
    "    9: '말', 10: '돼지', 11: '하늘', 12: '바람'\n",
    "}\n",
    "\n",
    "day = {\n",
    "    1: '와(과) 함께 춤을',\n",
    "    2: '의 기상',\n",
    "    3: '은(는) 그림자속에',\n",
    "    4: '',\n",
    "    5: '',\n",
    "    6: '',\n",
    "    7: '의 환생',\n",
    "    8: '의 죽음',\n",
    "    9: '의 아래에서',\n",
    "    10: '을(를) 보라',\n",
    "    11: '이(가) 노래하다',\n",
    "    12: '의 그늘 -> 그림자',\n",
    "    13: '의 일격',\n",
    "    14: '에게 쫓기는 남자',\n",
    "    15: '의 행진',\n",
    "    16: '의 왕',\n",
    "    17: '의 유령',\n",
    "    18: '을 죽인자',\n",
    "    19: '은(는) 맨날 잠 잔다',\n",
    "    20: '처럼',\n",
    "    21: '의 고향',\n",
    "    22: '의 전사',\n",
    "    23: '은(는) 나의 친구',\n",
    "    24: '의 노래',\n",
    "    25: '의 정령',\n",
    "    26: '의 파수꾼',\n",
    "    27: '의 악마',\n",
    "    28: '와(과) 같은 사나이',\n",
    "    29: '의 심판자 -> 을(를) 쓰러트린 자',\n",
    "    30: '의 혼',\n",
    "    31: '은(는) 말이 없다',\n",
    "}"
   ]
  },
  {
   "cell_type": "markdown",
   "id": "1dd1b899",
   "metadata": {},
   "source": [
    "- 인디언이름\n",
    "1. 문자 슬라이싱\n",
    "연, 월, 일 잘라내기\n",
    "=> 문자\n",
    "2. 딕셔너리의 키는 숫자 \n",
    "=> 문자를 숫자로 변경 후 값 확인\n",
    "3. 포맷팅을 사용해서 결과와 같이 출력\n",
    "결과 :  birthday = '1971-08-07'"
   ]
  },
  {
   "cell_type": "code",
   "execution_count": 329,
   "id": "9a3cc399",
   "metadata": {},
   "outputs": [
    {
     "data": {
      "text/plain": [
       "'날카로운 나무에게 쫓기는 남자'"
      ]
     },
     "execution_count": 329,
     "metadata": {},
     "output_type": "execute_result"
    }
   ],
   "source": [
    "# 방법1\n",
    "birthday = (f'{year[8]} {month[7]}{day[14]}' )\n",
    "birthday"
   ]
  },
  {
   "cell_type": "code",
   "execution_count": 324,
   "id": "e7f8b76f",
   "metadata": {},
   "outputs": [
    {
     "name": "stdout",
     "output_type": "stream",
     "text": [
      "1 08 07\n",
      "푸른\n",
      "달빛\n",
      "의 환생\n"
     ]
    }
   ],
   "source": [
    "# 방법2\n",
    "birthday = '1971-08-07'\n",
    "y = birthday[3]\n",
    "m = birthday[5:7]\n",
    "d = birthday[-2:]\n",
    "print(y,m,d)\n",
    "print(year.get(int(y)))\n",
    "print(month.get(int(m)))\n",
    "print(day.get(int(d)))"
   ]
  },
  {
   "cell_type": "code",
   "execution_count": 358,
   "id": "a00ceee0",
   "metadata": {},
   "outputs": [
    {
     "name": "stdout",
     "output_type": "stream",
     "text": [
      "날카로운 나무에게 쫓기는 남자\n",
      "푸른 달빛의 환생\n"
     ]
    }
   ],
   "source": [
    "print(birthday)\n",
    "print(f'{year.get(int(y))} {month.get(int(m))}{day.get(int(d))}')"
   ]
  },
  {
   "cell_type": "markdown",
   "id": "f2f7d51a",
   "metadata": {},
   "source": [
    "#### 헤드라인 뉴스의 제목과 url 추출하기 "
   ]
  },
  {
   "cell_type": "code",
   "execution_count": 415,
   "id": "2621984c",
   "metadata": {},
   "outputs": [],
   "source": [
    "import requests\n",
    "res = requests.get('http://ggoreb.com/api/youtube.jsp')\n",
    "# res.encoding = None\n",
    "# text = res.text\n",
    "data = res.json()"
   ]
  },
  {
   "cell_type": "code",
   "execution_count": 416,
   "id": "c2753e60",
   "metadata": {},
   "outputs": [],
   "source": [
    "items = data.get('items') # dictionary"
   ]
  },
  {
   "cell_type": "markdown",
   "id": "4973dc72",
   "metadata": {},
   "source": [
    "#### Youtube items 가져오기"
   ]
  },
  {
   "cell_type": "code",
   "execution_count": 418,
   "id": "2a6a0870",
   "metadata": {},
   "outputs": [
    {
     "name": "stdout",
     "output_type": "stream",
     "text": [
      "서울 마포구 월드컵북로 성산동, 내부순환도로, 성산유치원 인근 고화질 드론 영상소스  DJI 0030\n",
      "sMqaGX9UyYI\n",
      "세구가 가장 갖고 싶은 궁극기는?!  -고세구 궁극기 월드컵 64강\n",
      "waLwPvMLtic\n",
      "대한민국9번누구야 #조규성 #카타르월드컵 #가나전 #멀티골\n",
      "3iQm4otO7-Y\n",
      "9번!!!! 전 세계가 나를 주목해☆ / 2022 FIFA 카타르 월드컵 H조 대한민국vs가나\n",
      "j8V_YYwIjPY\n",
      "최고의 미드필더는 우승을 원한다. 자신의 마지막 월드컵을 위한 피날래. 루카 모드리치의 카타르 월드컵(2/3)\n",
      "u5kgwpIE3K8\n",
      "#대한민국 #축구선수 들 늦었지만 카타르월드컵 16강 감사합니다\n",
      "mQiLf8_ZqWw\n",
      "[윤치 다시보기] 원신 캐릭터 ost 월드컵\n",
      "ZetbQG0delg\n",
      "강원래 월드컵송\n",
      "iQcEYKTRMoE\n",
      "쿠키런 킹덤 복귀 유저 뽑기 대잔치 bts 여기 있네 월드컵에서 보고 게임 업데이트 새로운 쿠키 뽑기\n",
      "dokqQtrBre0\n",
      "포켓몬 유나이트 하기 전 이상형 월드컵 가즈아\n",
      "HwznFiWAMe8\n"
     ]
    }
   ],
   "source": [
    "for item in items:\n",
    "    snippet = item.get('snippet')\n",
    "    title = snippet.get('title')\n",
    "    print(title)\n",
    "    \n",
    "    id = item.get('id')\n",
    "    videold = id.get('videoId')\n",
    "    print(videold)"
   ]
  },
  {
   "cell_type": "code",
   "execution_count": 425,
   "id": "762ecd18",
   "metadata": {},
   "outputs": [
    {
     "data": {
      "text/html": [
       "<iframe src = 'https://www.youtube.com/embed/waLwPvMLtic'\n",
       "</iframe>\n"
      ],
      "text/plain": [
       "<IPython.core.display.HTML object>"
      ]
     },
     "metadata": {},
     "output_type": "display_data"
    }
   ],
   "source": [
    "%%html\n",
    "<iframe src = 'https://www.youtube.com/embed/waLwPvMLtic'\n",
    "</iframe>"
   ]
  },
  {
   "cell_type": "code",
   "execution_count": 423,
   "id": "a51bc3a9",
   "metadata": {
    "scrolled": true
   },
   "outputs": [
    {
     "name": "stdout",
     "output_type": "stream",
     "text": [
      "한전, 국가 에너지 안보 확립 위한 '제10차 장기 송변전설비계획' 수립 - EPJ https://news.google.com/rss/articles/CBMiNmh0dHA6Ly93d3cuZXBqLmNvLmtyL25ld3MvYXJ0aWNsZVZpZXcuaHRtbD9pZHhubz0zMjQyNNIBOWh0dHA6Ly93d3cuZXBqLmNvLmtyL25ld3MvYXJ0aWNsZVZpZXdBbXAuaHRtbD9pZHhubz0zMjQyNA?oc=5\n",
      "에스파 지젤, 애리의 하트 [SE★포토] - 서울경제 - 서울경제신문 https://news.google.com/rss/articles/CBMiK2h0dHBzOi8vd3d3LnNlZGFpbHkuY29tL05ld3NWaWV3LzI5UEkwUzI5TkPSASxodHRwczovL20uc2VkYWlseS5jb20vTmV3c1ZpZXdBbXAvMjlQSTBTMjlOQw?oc=5\n",
      "SG증권發 주가 폭락 후폭풍… 키움·교보, CFD 계좌 개설 중단 By MoneyS - Investing.com https://news.google.com/rss/articles/CBMiPmh0dHBzOi8va3IuaW52ZXN0aW5nLmNvbS9uZXdzL3N0b2NrLW1hcmtldC1uZXdzL2FydGljbGUtOTA3NDAx0gEA?oc=5\n",
      "해리포터 게임의 신기원! ... ‘호그와트 레거시’, 1,500만 장 판매 돌파 - 경향게임스 https://news.google.com/rss/articles/CBMiPGh0dHBzOi8vd3d3LmtoZ2FtZXMuY28ua3IvbmV3cy9hcnRpY2xlVmlldy5odG1sP2lkeG5vPTIxMjkzONIBP2h0dHBzOi8vd3d3LmtoZ2FtZXMuY28ua3IvbmV3cy9hcnRpY2xlVmlld0FtcC5odG1sP2lkeG5vPTIxMjkzOA?oc=5\n",
      "중기부, 국내 최초 전면적 네거티브 규제 '글로벌 혁신 특구' 조성방안 발표 - 인더스트리뉴스 https://news.google.com/rss/articles/CBMiQGh0dHBzOi8vd3d3LmluZHVzdHJ5bmV3cy5jby5rci9uZXdzL2FydGljbGVWaWV3Lmh0bWw_aWR4bm89NDk3MznSAQA?oc=5\n",
      "국내 원폭피해자들 “버림받은 존재였는데…한일 정상 참배 뜻깊어” - 한겨레 https://news.google.com/rss/articles/CBMiQGh0dHBzOi8vd3d3LmhhbmkuY28ua3IvYXJ0aS9zb2NpZXR5L3NvY2lldHlfZ2VuZXJhbC8xMDkwODc0Lmh0bWzSAQA?oc=5\n",
      "안영미, 美 출산 갑론을박...\"개인의 자유\" VS \"혜택 노린 원정\" - YTN https://news.google.com/rss/articles/CBMiMWh0dHBzOi8vd3d3Lnl0bi5jby5rci9fbG4vMDEwM18yMDIzMDUwODE0MDYwODI1NDjSAUNodHRwczovL20ueXRuLmNvLmtyL25ld3Nfdmlldy5hbXAucGhwP3BhcmFtPTAxMDNfMjAyMzA1MDgxNDA2MDgyNTQ4?oc=5\n",
      "중국 계획 '원천 봉쇄'…미국 \"게임체인저\" 뜬다 / 비머pick / 비디오머그 - 비디오머그 - VIDEOMUG https://news.google.com/rss/articles/CCAiC0pDRXA3dkZ1bjZFmAEB?oc=5\n",
      "천주교정의구현사제단 춘천 시국미사 “침묵 깨고 행동하라” - 한겨레 https://news.google.com/rss/articles/CBMiOmh0dHBzOi8vd3d3LmhhbmkuY28ua3IvYXJ0aS9zb2NpZXR5L3JlbGlnaW91cy8xMDkwODcwLmh0bWzSAQA?oc=5\n",
      "“부모님 폐렴구균 백신 챙겨주세요”…65살 이상 무료접종 - 한겨레 https://news.google.com/rss/articles/CBMiN2h0dHBzOi8vd3d3LmhhbmkuY28ua3IvYXJ0aS9zb2NpZXR5L2hlYWx0aC8xMDkwODY5Lmh0bWzSAQA?oc=5\n",
      "[영상] 구글 '픽셀 7a' 출시 앞서 핸즈온 영상 공개 - 케이벤치 (KBench) https://news.google.com/rss/articles/CBMiIWh0dHBzOi8va2JlbmNoLmNvbS8_cT1ub2RlLzI0MzQxOdIBAA?oc=5\n",
      "러시아, 전승절 하루 앞…바흐무트 전투 치열·자포리자 대피 / KBS 2023.05.08. - KBS News https://news.google.com/rss/articles/CCAiC1RrSmpzWS1JeDJnmAEB?oc=5\n",
      "헬리코박터 치료해야 하는 이유? 위암 절반 감소 - medicaltimes.com https://news.google.com/rss/articles/CBMiP2h0dHBzOi8vd3d3Lm1lZGljYWx0aW1lcy5jb20vTWFpbi9OZXdzL05ld3NWaWV3Lmh0bWw_SUQ9MTE1MzQ3NNIBAA?oc=5\n",
      "[속보] 美텍사스 총기난사에 한인 부부·3세 아이 숨져 - 서울신문 https://news.google.com/rss/articles/CBMiO2h0dHBzOi8vd3d3LnNlb3VsLmNvLmtyL25ld3MvbmV3c1ZpZXcucGhwP2lkPTIwMjMwNTA4NTAwMDgw0gEsaHR0cHM6Ly9hbXAuc2VvdWwuY28ua3Ivc2VvdWwvMjAyMzA1MDg1MDAwODA?oc=5\n",
      "윤 대통령 \"한일회담 후속 조치에 철저히 임해달라\" - MBC뉴스 https://news.google.com/rss/articles/CBMiRWh0dHBzOi8vaW1uZXdzLmltYmMuY29tL25ld3MvMjAyMy9wb2xpdGljcy9hcnRpY2xlLzY0ODE0MzJfMzYxMTkuaHRtbNIBRWh0dHBzOi8vaW1uZXdzLmltYmMuY29tL25ld3MvMjAyMy9wb2xpdGljcy9hcnRpY2xlLzY0ODE0MzJfMzYxMjAuaHRtbA?oc=5\n",
      "'멀티히트' 김하성, 커쇼 이어 우리아스도 끌어내렸다... SD는 LAD에 2-5 역전패 [SD 리뷰] - 머니투데이 https://news.google.com/rss/articles/CBMiN2h0dHBzOi8vbmV3cy5tdC5jby5rci9tdHZpZXcucGhwP25vPTIwMjMwNTA4MDczNTA2OTQyNjfSAT1odHRwczovL20ubXQuY28ua3IvcmVuZXcvdmlld19hbXAuaHRtbD9ubz0yMDIzMDUwODA3MzUwNjk0MjY3?oc=5\n",
      "윤리위 앞둔 태영호 \"이진복 공천 언급 없어…모든 것 건다\" - 노컷뉴스 https://news.google.com/rss/articles/CBMiKGh0dHBzOi8vd3d3Lm5vY3V0bmV3cy5jby5rci9uZXdzLzU5Mzk0ODbSAQA?oc=5\n",
      "셀틱 오현규, 시즌 4호골로 프리미어십 우승 쐐기 - 연합뉴스TV https://news.google.com/rss/articles/CBMiNmh0dHBzOi8vbS55b25oYXBuZXdzdHYuY28ua3IvbmV3cy9NWUgyMDIzMDUwODAwNjMwMDY0MdIBAA?oc=5\n",
      "아이폰15 프로 맥스, 아이폰 역대 가장 얇은 베젤 선보일까 - 디지털투데이 https://news.google.com/rss/articles/CBMiQWh0dHBzOi8vd3d3LmRpZ2l0YWx0b2RheS5jby5rci9uZXdzL2FydGljbGVWaWV3Lmh0bWw_aWR4bm89NDc1Nzk10gEA?oc=5\n",
      "'거리 텅텅' 베트남 44도 사상 최고 폭염…기후위기 덮친 동남아 - 한겨레 https://news.google.com/rss/articles/CBMiTGh0dHBzOi8vd3d3LmhhbmkuY28ua3IvYXJ0aS9pbnRlcm5hdGlvbmFsL2ludGVybmF0aW9uYWxfZ2VuZXJhbC8xMDkwODQ2Lmh0bWzSAQA?oc=5\n"
     ]
    }
   ],
   "source": [
    "import requests\n",
    "res = requests.get('https://newsapi.org/v2/top-headlines?country=kr&apiKey=9f5baf7d9f3f42879a20d7d19d9886e4')\n",
    "data = res.json()\n",
    "articles = data.get('articles')\n",
    "\n",
    "for article in articles:\n",
    "    title = article.get('title')\n",
    "    url = article.get('url')\n",
    "    print(title, url)"
   ]
  },
  {
   "cell_type": "markdown",
   "id": "7e015d83",
   "metadata": {},
   "source": [
    "### **자료구조**\n",
    "1. list\n",
    "2. dictinary(맵, 테이블)\n",
    "3. set(집합)\n",
    "4. 스택(stack)\n",
    "5. 큐(queue)"
   ]
  },
  {
   "cell_type": "markdown",
   "id": "238049b4",
   "metadata": {},
   "source": [
    "#### set : 집합"
   ]
  },
  {
   "cell_type": "code",
   "execution_count": 429,
   "id": "9e854ca8",
   "metadata": {},
   "outputs": [
    {
     "name": "stdout",
     "output_type": "stream",
     "text": [
      "{3, 4, 5}\n",
      "{3, 4, 5}\n"
     ]
    }
   ],
   "source": [
    "# 교집합\n",
    "a = set([1, 2, 3, 4, 5])\n",
    "b = set([3, 4, 5, 6, 7])\n",
    "print(a & b)\n",
    "print(a.intersection(b))"
   ]
  },
  {
   "cell_type": "code",
   "execution_count": 430,
   "id": "f1990673",
   "metadata": {},
   "outputs": [
    {
     "name": "stdout",
     "output_type": "stream",
     "text": [
      "{1, 2, 3, 4, 5, 6, 7}\n",
      "{1, 2, 3, 4, 5, 6, 7}\n"
     ]
    }
   ],
   "source": [
    "# 합집합\n",
    "a = set([1, 2, 3, 4, 5])\n",
    "b = set([3, 4, 5, 6, 7])\n",
    "print(a | b)\n",
    "print(a.union(b))"
   ]
  },
  {
   "cell_type": "code",
   "execution_count": 431,
   "id": "af0d36ed",
   "metadata": {},
   "outputs": [
    {
     "name": "stdout",
     "output_type": "stream",
     "text": [
      "{1, 2}\n",
      "{1, 2}\n"
     ]
    }
   ],
   "source": [
    "# 차집합\n",
    "a = set([1, 2, 3, 4, 5])\n",
    "b = set([3, 4, 5, 6, 7])\n",
    "print(a - b)\n",
    "print(a.difference(b))"
   ]
  },
  {
   "cell_type": "code",
   "execution_count": 432,
   "id": "1ac60a1a",
   "metadata": {},
   "outputs": [
    {
     "name": "stdout",
     "output_type": "stream",
     "text": [
      "{1, 2, 3, 4}\n",
      "[1, 2, 3, 4]\n"
     ]
    }
   ],
   "source": [
    "# List 중복 제거\n",
    "items = [1, 2, 3, 4, 1, 2, 3]\n",
    "s = set(items)\n",
    "print(s)\n",
    "items2 = list(s)\n",
    "print(items2)"
   ]
  },
  {
   "cell_type": "markdown",
   "id": "4e7045bb",
   "metadata": {},
   "source": [
    "#### 연습문제 "
   ]
  },
  {
   "cell_type": "code",
   "execution_count": 435,
   "id": "98036ef7",
   "metadata": {},
   "outputs": [
    {
     "name": "stdout",
     "output_type": "stream",
     "text": [
      "{34, 12, 6}\n"
     ]
    }
   ],
   "source": [
    "# 두 개의 집합에서 공통 요소만 출력하기 (교집합)\n",
    "lotto_num1 = {6, 12, 17, 21, 34, 37}\n",
    "lotto_num2 = {6, 12, 19, 24, 34, 41}\n",
    "print(lotto_num1 & lotto_num2)"
   ]
  },
  {
   "cell_type": "code",
   "execution_count": 437,
   "id": "ea505328",
   "metadata": {},
   "outputs": [
    {
     "name": "stdout",
     "output_type": "stream",
     "text": [
      "[7, 9, 11, 15, 26]\n"
     ]
    }
   ],
   "source": [
    "# Set을 활용하여 List 요소의 중복 데이터 제거하기\n",
    "num_list = [9, 7, 11, 26, 15, 9, 15, 26]\n",
    "print(list(set(num_list)))"
   ]
  },
  {
   "cell_type": "markdown",
   "id": "7f1432d3",
   "metadata": {},
   "source": [
    "**파이썬이 제공하는 자료형태**\n",
    "1. 숫자\n",
    "2. 문자\n",
    "3. 논리\n",
    "4. **리스트**\n",
    "5. **딕셔너리**\n",
    "6. 튜플\n",
    "7. set\n",
    "\n",
    "슬라이싱, 인덱싱이 되는지"
   ]
  },
  {
   "cell_type": "markdown",
   "id": "087dca23",
   "metadata": {},
   "source": [
    "## Duplicate Numbers\n",
    "#### 0-9까지의 문자로 된 숫자를 입력 받았을 때, 이 입력 값이 0-9까지의 모든 숫자가 각각 한번씩만 사용된 것인지 확인하는 함수를 구하시오.\n",
    "\n",
    "- sample inputs: 0123456789 01234 01234567890 6789012345 012322456789\n",
    "\n",
    "- sample outputs: true false false true false"
   ]
  },
  {
   "cell_type": "code",
   "execution_count": 4,
   "id": "2acb05a3",
   "metadata": {},
   "outputs": [],
   "source": [
    "sample = '0123456789 01234 01234567890 6789012345 012322456789'"
   ]
  },
  {
   "cell_type": "code",
   "execution_count": 8,
   "id": "d9168007",
   "metadata": {},
   "outputs": [
    {
     "data": {
      "text/plain": [
       "(10, 10)"
      ]
     },
     "execution_count": 8,
     "metadata": {},
     "output_type": "execute_result"
    }
   ],
   "source": [
    "num = '0123456789'\n",
    "len(num), len(set(num))"
   ]
  },
  {
   "cell_type": "code",
   "execution_count": null,
   "id": "b70d025e",
   "metadata": {},
   "outputs": [],
   "source": []
  },
  {
   "cell_type": "markdown",
   "id": "1bbbfbc6",
   "metadata": {},
   "source": [
    "## 제어문"
   ]
  },
  {
   "cell_type": "markdown",
   "id": "0dfdcee2",
   "metadata": {},
   "source": [
    "#### 비교, 논리 연산자"
   ]
  },
  {
   "cell_type": "code",
   "execution_count": 448,
   "id": "f111b3e7",
   "metadata": {},
   "outputs": [
    {
     "data": {
      "text/plain": [
       "False"
      ]
     },
     "execution_count": 448,
     "metadata": {},
     "output_type": "execute_result"
    }
   ],
   "source": [
    "# 경력3년 이상, 자격증 보유, 거주지 거제인 사람\n",
    "경력 = 3\n",
    "자격증 = True\n",
    "거주지 = '부산'\n",
    "\n",
    "(경력 >= 3 or 자격증 == True) and 거주지 == '거제'"
   ]
  },
  {
   "cell_type": "code",
   "execution_count": 449,
   "id": "a80a6a68",
   "metadata": {},
   "outputs": [
    {
     "data": {
      "text/plain": [
       "(True, True, True)"
      ]
     },
     "execution_count": 449,
     "metadata": {},
     "output_type": "execute_result"
    }
   ],
   "source": [
    "1 == 1, ''=='', None == None"
   ]
  },
  {
   "cell_type": "markdown",
   "id": "779f026f",
   "metadata": {},
   "source": [
    "#### 조건문"
   ]
  },
  {
   "cell_type": "code",
   "execution_count": 450,
   "id": "f5ba5fc3",
   "metadata": {},
   "outputs": [
    {
     "name": "stdout",
     "output_type": "stream",
     "text": [
      "Pass\n"
     ]
    }
   ],
   "source": [
    "score = 60\n",
    "if score >= 60:\n",
    "    print('Pass')"
   ]
  },
  {
   "cell_type": "code",
   "execution_count": 453,
   "id": "409a8352",
   "metadata": {
    "scrolled": true
   },
   "outputs": [
    {
     "name": "stdout",
     "output_type": "stream",
     "text": [
      "점수를 입력해주세요: 66\n",
      "Pass\n"
     ]
    }
   ],
   "source": [
    "score = int(input('점수를 입력해주세요: '))\n",
    "if score >=  60:\n",
    "    print('Pass')\n",
    "else:\n",
    "    print('Fail')"
   ]
  },
  {
   "cell_type": "code",
   "execution_count": 455,
   "id": "dfd53f1d",
   "metadata": {},
   "outputs": [
    {
     "name": "stdout",
     "output_type": "stream",
     "text": [
      "Retake\n"
     ]
    }
   ],
   "source": [
    "# if / elif / else - 점수가 70점 이상인 경우 합격, 60점 이상인 경우 재시험 그 외 경우 불합격\n",
    "score = 60\n",
    "if score >= 70:\n",
    "    print('Pass')\n",
    "elif score >= 60:\n",
    "    print('Retake')\n",
    "else:\n",
    "    print('Fail')"
   ]
  },
  {
   "cell_type": "code",
   "execution_count": 456,
   "id": "ec905711",
   "metadata": {},
   "outputs": [
    {
     "name": "stdout",
     "output_type": "stream",
     "text": [
      "인터넷 검색 가능\n"
     ]
    }
   ],
   "source": [
    "# 논리 연산자 사용\n",
    "hasPC = True\n",
    "hasPhone = False\n",
    "if hasPC or hasPhone:\n",
    "    print('인터넷 검색 가능')\n",
    "else:\n",
    "    print('인터넷 검색 불가')\n"
   ]
  },
  {
   "cell_type": "code",
   "execution_count": 461,
   "id": "852cd9d2",
   "metadata": {},
   "outputs": [
    {
     "name": "stdout",
     "output_type": "stream",
     "text": [
      "인터넷 검색 불가\n"
     ]
    }
   ],
   "source": [
    "hasPC = True\n",
    "hasPhone = False\n",
    "hasCrime = True\n",
    "\n",
    "# hasCrime이 True이면 검색 불가\n",
    "if (hasPC or hasPhone) and not hasCrime:\n",
    "    print('인터넷 검색 가능')\n",
    "else:\n",
    "    print('인터넷 검색 불가')\n"
   ]
  },
  {
   "cell_type": "code",
   "execution_count": null,
   "id": "a4763afd",
   "metadata": {},
   "outputs": [],
   "source": [
    "# Set\n",
    "s = { 1, 2, 3, 4, 5 }\n",
    "print(2 in s)\n",
    "print('2' in s)"
   ]
  },
  {
   "cell_type": "markdown",
   "id": "539d82eb",
   "metadata": {},
   "source": [
    "#### 폴더가 존재하지 않으면 폴더 생성하기"
   ]
  },
  {
   "cell_type": "code",
   "execution_count": 464,
   "id": "a45551d9",
   "metadata": {},
   "outputs": [],
   "source": [
    "import os\n",
    "os.mkdir('data')"
   ]
  },
  {
   "cell_type": "code",
   "execution_count": 468,
   "id": "d9f25305",
   "metadata": {},
   "outputs": [
    {
     "data": {
      "text/plain": [
       "True"
      ]
     },
     "execution_count": 468,
     "metadata": {},
     "output_type": "execute_result"
    }
   ],
   "source": [
    "os.path.isdir('data')"
   ]
  },
  {
   "cell_type": "code",
   "execution_count": 469,
   "id": "d88eb590",
   "metadata": {},
   "outputs": [],
   "source": [
    "# 방법1\n",
    "if os.path.isdir('data') == True:\n",
    "    pass\n",
    "else:\n",
    "    os.mkdir('data')"
   ]
  },
  {
   "cell_type": "code",
   "execution_count": 471,
   "id": "56a53d1e",
   "metadata": {},
   "outputs": [],
   "source": [
    "# 방법2\n",
    "if not os.path.isdir('data') == True:\n",
    "    os.mkdir('data')"
   ]
  },
  {
   "cell_type": "markdown",
   "id": "3ca9af36",
   "metadata": {},
   "source": [
    "#### 연습문제 : 야구게임"
   ]
  },
  {
   "cell_type": "markdown",
   "id": "61d314a0",
   "metadata": {},
   "source": [
    "사용되는 숫자는 0에서 9까지 서로 다른 숫자이다.\n",
    "숫자는 맞지만 위치가 틀렸을 때는 볼.\n",
    "숫자와 위치가 전부 맞으면 스트라이크.\n",
    "숫자와 위치가 전부 틀리면 아웃. \"틀렸다\"는 게 중요하다.\n",
    "물론 무엇이 볼이고 스트라이크인지는 알려주지 않는다."
   ]
  },
  {
   "cell_type": "markdown",
   "id": "2f15919e",
   "metadata": {},
   "source": [
    "1. 830 - 들어맞는 숫자가 아예 없으므로 아웃. 이때부터 0, 3, 8이 후보에서 빠지므로 남는 숫자는 1, 2, 4, 5, 6, 7, 9다.\n",
    "2. 659 - 6이 있지만 위치가 다르므로 1볼. 게임 상으로는 어떤 숫자가 맞는지 모르기 때문에 가장 난감하다.\n",
    "3. 264 - 2가 있고 위치가 맞으며, 6이 있지만 위치가 다르므로 1스트라이크 1볼.\n",
    "4. 126 - 숫자는 전부 맞지만 위치는 6만 맞고 나머지 둘은 다르므로 1스트라이크 2볼.\n",
    "5. 216 - 전부 맞으므로 승리."
   ]
  },
  {
   "cell_type": "code",
   "execution_count": 6,
   "id": "96118c81",
   "metadata": {},
   "outputs": [
    {
     "name": "stdout",
     "output_type": "stream",
     "text": [
      "216\n"
     ]
    }
   ],
   "source": [
    "import requests as req\n",
    "res = req.get('http://ggoreb.com/quiz/baseball.txt')\n",
    "text = res.text\n",
    "print(text)"
   ]
  },
  {
   "cell_type": "code",
   "execution_count": 10,
   "id": "77a18569",
   "metadata": {},
   "outputs": [
    {
     "name": "stdout",
     "output_type": "stream",
     "text": [
      "첫번째 볼: 6\n",
      "볼\n",
      "두번째 볼: 1\n",
      "스트라이크\n",
      "세번째 볼: 6\n",
      "스트라이크\n"
     ]
    }
   ],
   "source": [
    "# 1번 방법\n",
    "if int(input(\"첫번째 볼: \")) == int(2):\n",
    "    print(\"스트라이크\")\n",
    "else: print(\"볼\")\n",
    "    \n",
    "if int(input(\"두번째 볼: \")) == int(1):\n",
    "    print(\"스트라이크\")\n",
    "else: print(\"볼\")\n",
    "\n",
    "if int(input(\"세번째 볼: \")) == int(6):\n",
    "    print(\"스트라이크\")\n",
    "else: print(\"볼\")"
   ]
  },
  {
   "cell_type": "code",
   "execution_count": null,
   "id": "dfd1d940",
   "metadata": {},
   "outputs": [],
   "source": []
  },
  {
   "cell_type": "code",
   "execution_count": null,
   "id": "0c1f6215",
   "metadata": {},
   "outputs": [],
   "source": [
    "#0510"
   ]
  },
  {
   "cell_type": "code",
   "execution_count": 8,
   "id": "57bf4396",
   "metadata": {},
   "outputs": [
    {
     "name": "stdout",
     "output_type": "stream",
     "text": [
      "스트라이크\n"
     ]
    }
   ],
   "source": [
    "#2번 방법(선생님)\n",
    "# 문자는 인덱싱이 가능\n",
    "입력 = '216'\n",
    "if 입력[0] == text[0]:\n",
    "    print('스트라이크')\n",
    "elif 입력[0] in text:\n",
    "    print('볼')\n",
    "else:\n",
    "    print('아웃')"
   ]
  },
  {
   "cell_type": "code",
   "execution_count": 9,
   "id": "01951fd6",
   "metadata": {},
   "outputs": [
    {
     "name": "stdout",
     "output_type": "stream",
     "text": [
      "스트라이크\n"
     ]
    }
   ],
   "source": [
    "#2번 방법(2) (선생님)\n",
    "#입력 = '216'\n",
    "if 입력[1] == text[1]:\n",
    "    print('스트라이크')\n",
    "elif 입력[1] not in text:\n",
    "    print('아웃')\n",
    "else:\n",
    "    print('볼')"
   ]
  },
  {
   "cell_type": "code",
   "execution_count": 15,
   "id": "7985a0f6",
   "metadata": {},
   "outputs": [
    {
     "name": "stdout",
     "output_type": "stream",
     "text": [
      "216\n"
     ]
    }
   ],
   "source": [
    "#3번 방법\n",
    "import requests as req\n",
    "res = req.get('http://ggoreb.com/quiz/baseball.txt')\n",
    "text = res.text\n",
    "print(text)\n",
    "\n",
    "# 초기화, 아래쪽 어딘가에서 사용할 변수\n",
    "strike = 0\n",
    "ball= 0\n",
    "out = 0\n",
    "\n",
    "입력 = '216'\n",
    "if 입력[0] == text[0]:\n",
    "    strike = strike + 1  # strike += 1\n",
    "elif 입력[0] not in text:\n",
    "    ball += 1 \n",
    "else:\n",
    "    out += 1 \n",
    "\n",
    "if 입력[1] == text[1]:\n",
    "    strike = strike + 1  # strike += 1\n",
    "elif 입력[1] not in text:\n",
    "    ball += 1 \n",
    "else:\n",
    "    out += 1 \n",
    "\n",
    "if 입력[2] == text[2]:\n",
    "    strike = strike + 1  # strike += 1\n",
    "elif 입력[2] not in text:\n",
    "    ball += 1 \n",
    "else:\n",
    "    out += 1 "
   ]
  },
  {
   "cell_type": "code",
   "execution_count": 21,
   "id": "061ed535",
   "metadata": {},
   "outputs": [
    {
     "name": "stdout",
     "output_type": "stream",
     "text": [
      "당신이 입력한 숫자: 216\n",
      "3S 0B\n"
     ]
    }
   ],
   "source": [
    "print(f'당신이 입력한 숫자: {입력}')\n",
    "print(f'{strike}S {ball}B')\n"
   ]
  },
  {
   "cell_type": "code",
   "execution_count": 25,
   "id": "8bc59698",
   "metadata": {},
   "outputs": [
    {
     "name": "stdout",
     "output_type": "stream",
     "text": [
      "당신이 입력한 숫자: 216\n",
      "3S 0B\n"
     ]
    }
   ],
   "source": [
    "print(f'당신이 입력한 숫자: {입력}')\n",
    "if out < 3:\n",
    "    print(f'{strike}S {ball}B')\n",
    "else:\n",
    "    print('아웃')"
   ]
  },
  {
   "cell_type": "markdown",
   "id": "856c8178",
   "metadata": {},
   "source": [
    "#### 조건문 연습문제 : 윤년, 평년 check_year"
   ]
  },
  {
   "cell_type": "code",
   "execution_count": 32,
   "id": "03ebde12",
   "metadata": {},
   "outputs": [],
   "source": [
    "# 윤년이면 '윤년입니다.', 아니라면 '평년입니다.' 라고 출력하는 check_year 함수 만들기\n",
    "# 입력 예)\n",
    "# check_year(1904)  윤년"
   ]
  },
  {
   "cell_type": "code",
   "execution_count": 31,
   "id": "5d16816f",
   "metadata": {},
   "outputs": [
    {
     "name": "stdout",
     "output_type": "stream",
     "text": [
      "평년\n"
     ]
    }
   ],
   "source": [
    "year = 2023\n",
    "if year % 4 == 0 :\n",
    "    print('윤년')\n",
    "elif year % 100 == 0:\n",
    "    print('평년')\n",
    "elif year % 400 == 0:\n",
    "    print('윤년')\n",
    "else:\n",
    "    print('평년')"
   ]
  },
  {
   "cell_type": "markdown",
   "id": "3c6eaef9",
   "metadata": {},
   "source": [
    "#### 슬라이싱 연습"
   ]
  },
  {
   "cell_type": "code",
   "execution_count": 42,
   "id": "4a6b8418",
   "metadata": {},
   "outputs": [
    {
     "name": "stdout",
     "output_type": "stream",
     "text": [
      "[2, 5]\n",
      "25\n",
      "[1, 3, 2, 5, 4]\n",
      "13254\n",
      "124\n",
      "45231\n"
     ]
    }
   ],
   "source": [
    "리스트 = [1, 3, 2, 5, 4]\n",
    "문자 = '13254'\n",
    "print(리스트[2:4])\n",
    "print(문자[2:4])\n",
    "print(리스트[:])\n",
    "print(문자[:])\n",
    "\n",
    "print(문자[::2]) # 끝 숫자만큼 건너뛴다 (기본값은 1)\n",
    "print(문자[::-1]) # 순서를 뒤집는 것, 정렬과는 다름"
   ]
  },
  {
   "cell_type": "markdown",
   "id": "8be51970",
   "metadata": {},
   "source": [
    "#### 연습문제"
   ]
  },
  {
   "cell_type": "code",
   "execution_count": 24,
   "id": "3900b8ed",
   "metadata": {},
   "outputs": [
    {
     "name": "stdout",
     "output_type": "stream",
     "text": [
      "짝수입니다.\n"
     ]
    }
   ],
   "source": [
    "# 주어진 숫자가 홀수인지 짝수인지 확인할 수 있는 조건문 작성하기\n",
    "num = 122\n",
    "if num % 2 == 0:\n",
    "    print(\"짝수입니다.\")\n",
    "else :\n",
    "    print(\"홀수입니다.\")"
   ]
  },
  {
   "cell_type": "code",
   "execution_count": 47,
   "id": "88ee3f50",
   "metadata": {},
   "outputs": [
    {
     "name": "stdout",
     "output_type": "stream",
     "text": [
      "이수완료\n"
     ]
    }
   ],
   "source": [
    "# Dictionary로 구성된 이수 과목 데이터 중 ' 자료구조'가 있는지 확인하여 \n",
    "# '자료구조'의 점수가 60점 이상이면 '이수 완료'를 출력하고 조건이 맞지 않으면 '재수강'을 출력하는 코드 작성\n",
    "\n",
    "# 방법1\n",
    "subject = {'자료구조':80, '알고리즘':60, '네트워크':90}\n",
    "\n",
    "if '자료구조' in subject and subject.get('자료구조') >= 60:\n",
    "    print(\"이수완료\")\n",
    "else:\n",
    "    print(\"재수강\")"
   ]
  },
  {
   "cell_type": "code",
   "execution_count": 48,
   "id": "de659909",
   "metadata": {},
   "outputs": [
    {
     "name": "stdout",
     "output_type": "stream",
     "text": [
      "이수완료\n"
     ]
    }
   ],
   "source": [
    "# 방법2\n",
    "subject = {'자료구조':80, '알고리즘':60, '네트워크':90}\n",
    "\n",
    "if '자료구조' in subject:\n",
    "    if subject.get('자료구조') >= 60:\n",
    "        print(\"이수완료\")\n",
    "    else:\n",
    "        print(\"재수강\")\n",
    "else:\n",
    "    print(\"재수강\")"
   ]
  },
  {
   "cell_type": "code",
   "execution_count": 51,
   "id": "7c5227d6",
   "metadata": {},
   "outputs": [
    {
     "name": "stdout",
     "output_type": "stream",
     "text": [
      "재수강\n"
     ]
    }
   ],
   "source": [
    "# 방법3\n",
    "subject = {'자료구조':80, '알고리즘':60, '네트워크':90}\n",
    "\n",
    "if subject.get('자료구조') in subject:\n",
    "    if subject.get('자료구조') >= 60:\n",
    "        print(\"이수완료\")\n",
    "else: \n",
    "    print(\"재수강\")"
   ]
  },
  {
   "cell_type": "markdown",
   "id": "461fd69a",
   "metadata": {},
   "source": [
    "#### 조건부 표현식 : if"
   ]
  },
  {
   "cell_type": "code",
   "execution_count": 7,
   "id": "efe92780",
   "metadata": {},
   "outputs": [
    {
     "name": "stdout",
     "output_type": "stream",
     "text": [
      "FAIL\n",
      "FAIL\n"
     ]
    }
   ],
   "source": [
    "score = 40\n",
    "\n",
    "if score >= 60:\n",
    "    print('PASS')\n",
    "else:\n",
    "    print('FAIL')\n",
    "    \n",
    "print('PASS') if score >= 60 else print('FAIL')\n"
   ]
  },
  {
   "cell_type": "markdown",
   "id": "39dab4f9",
   "metadata": {},
   "source": [
    "### 반복문 : for, while"
   ]
  },
  {
   "cell_type": "markdown",
   "id": "e5bfc2f6",
   "metadata": {},
   "source": [
    "#### while"
   ]
  },
  {
   "cell_type": "code",
   "execution_count": null,
   "id": "4da2db42",
   "metadata": {},
   "outputs": [],
   "source": [
    "#0510 야구게임"
   ]
  },
  {
   "cell_type": "code",
   "execution_count": null,
   "id": "1d260df1",
   "metadata": {},
   "outputs": [],
   "source": []
  }
 ],
 "metadata": {
  "kernelspec": {
   "display_name": "Python 3 (ipykernel)",
   "language": "python",
   "name": "python3"
  },
  "language_info": {
   "codemirror_mode": {
    "name": "ipython",
    "version": 3
   },
   "file_extension": ".py",
   "mimetype": "text/x-python",
   "name": "python",
   "nbconvert_exporter": "python",
   "pygments_lexer": "ipython3",
   "version": "3.10.9"
  }
 },
 "nbformat": 4,
 "nbformat_minor": 5
}
